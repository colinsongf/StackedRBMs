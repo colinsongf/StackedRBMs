{
 "metadata": {
  "name": "",
  "signature": "sha256:5e848e4388ec0c186ab9bc173996e37d3439281d50ca886e48c56e2dd1981cfe"
 },
 "nbformat": 3,
 "nbformat_minor": 0,
 "worksheets": [
  {
   "cells": [
    {
     "cell_type": "code",
     "collapsed": false,
     "input": [
      "import os\n",
      "import csv\n",
      "import cPickle\n",
      "\n",
      "from scipy.sparse import coo_matrix\n",
      "import nltk\n",
      "from nltk.tokenize import sent_tokenize\n",
      "from collections import defaultdict\n",
      "from sklearn.svm import SVC, LinearSVC\n",
      "from sklearn import cross_validation\n",
      "from sklearn.cross_validation import train_test_split\n",
      "from sklearn.feature_extraction.text import TfidfTransformer\n",
      "\n",
      "import rbm\n",
      "from utils import replace_nnp, tiles\n",
      "from embeddings import CollbertWestonEmbeddings, GoogleEmbeddings"
     ],
     "language": "python",
     "metadata": {},
     "outputs": [],
     "prompt_number": 1
    },
    {
     "cell_type": "code",
     "collapsed": false,
     "input": [
      "DATA_PATH       = \"../datasets\"\n",
      "EMBEDDINGS_PATH = \"{0}/text_embeddings/CollobertEmbeddings\".format(DATA_PATH)\n",
      "SUB_OBJ_PATH    = '{0}/sub_obj/sub_obj_sents.1.2.tsv'.format(DATA_PATH)\n",
      "\n",
      "options = {\n",
      "    \"replace_nnp\" : False\n",
      "}"
     ],
     "language": "python",
     "metadata": {},
     "outputs": [],
     "prompt_number": 18
    },
    {
     "cell_type": "code",
     "collapsed": false,
     "input": [
      "embeddings = CollbertWestonEmbeddings(\"%s/words.lst\" % EMBEDDINGS_PATH, \n",
      "                                       \"%s/embeddings.txt\" % EMBEDDINGS_PATH)\n",
      "\n",
      "word_id = dict([(w, i) for i, w in enumerate(embeddings.words)])\n",
      "W = []\n",
      "for i in xrange(len(embeddings.words)):\n",
      "    W.append(embeddings.vector(embeddings.words[i]))\n",
      "W = asarray(W)"
     ],
     "language": "python",
     "metadata": {},
     "outputs": [],
     "prompt_number": 14
    },
    {
     "cell_type": "code",
     "collapsed": false,
     "input": [
      "f = open(SUB_OBJ_PATH)\n",
      "reader = csv.reader(f, delimiter='\\t')\n",
      "row = 0\n",
      "data, i, j = [], [], []\n",
      "Y0 = []\n",
      "for sent, label in reader:\n",
      "    v = defaultdict(lambda: 0)\n",
      "    if options[\"replace_nnp\"]:\n",
      "        sent = replace_nnp(sent)\n",
      "    for w in nltk.word_tokenize(sent):\n",
      "        w = w if w in embeddings.words else \"UNKNOWN\"\n",
      "        v[word_id[w]] += 1\n",
      "    for wid, count in v.iteritems():\n",
      "        data.append(count)\n",
      "        i.append(row)\n",
      "        j.append(wid)    \n",
      "    Y0.append(label)\n",
      "    row += 1\n",
      "f.close()"
     ],
     "language": "python",
     "metadata": {},
     "outputs": [],
     "prompt_number": 19
    },
    {
     "cell_type": "code",
     "collapsed": false,
     "input": [
      "Y0 = [{'objective': 0, 'subjective': 1}.get(y) for y in Y0]\n",
      "Y0 = asarray(Y0)\n",
      "\n",
      "X = coo_matrix((data, (i, j)), (row, len(embeddings.words)))\n",
      "X = X.tocsc()"
     ],
     "language": "python",
     "metadata": {},
     "outputs": [],
     "prompt_number": 26
    },
    {
     "cell_type": "code",
     "collapsed": false,
     "input": [
      "def stdnorm(x):    \n",
      "    return (x - x.mean())/x.std()"
     ],
     "language": "python",
     "metadata": {},
     "outputs": [],
     "prompt_number": 27
    },
    {
     "cell_type": "code",
     "collapsed": false,
     "input": [
      "def performance(clf, x, y):\n",
      "    predicts = clf.predict(x_test)    \n",
      "    TP=(y[predicts == 1]==1).sum()\n",
      "    FP=(y[predicts == 1]==0).sum()\n",
      "    TN=(y[predicts == 0]==0).sum() \n",
      "    FN=(y[predicts == 0]==1).sum()\n",
      "    return dict(\n",
      "        subjective_precision=TP*1./(TP + FP),\n",
      "        subjective_recall=TP*1./(TP + FN),\n",
      "        objective_precision=TN*1./(TN + FN),\n",
      "        objective_recall=TN*1./(TN + FP),\n",
      "        accuracy=(TP + TN)*1./(TP + FP + TN + FN)\n",
      "    )         "
     ],
     "language": "python",
     "metadata": {},
     "outputs": [],
     "prompt_number": 28
    },
    {
     "cell_type": "markdown",
     "metadata": {},
     "source": [
      "## Naive "
     ]
    },
    {
     "cell_type": "code",
     "collapsed": false,
     "input": [
      "x_train, x_test, y_train, y_test = train_test_split(X*W, Y0, test_size=.2)"
     ],
     "language": "python",
     "metadata": {},
     "outputs": [],
     "prompt_number": 74
    },
    {
     "cell_type": "code",
     "collapsed": false,
     "input": [
      "clf = SVC(kernel=\"linear\")\n",
      "clf.fit(x_train, y_train)\n",
      "score = clf.score(x_test, y_test)"
     ],
     "language": "python",
     "metadata": {},
     "outputs": [],
     "prompt_number": 75
    },
    {
     "cell_type": "code",
     "collapsed": false,
     "input": [
      "print score"
     ],
     "language": "python",
     "metadata": {},
     "outputs": [
      {
       "output_type": "stream",
       "stream": "stdout",
       "text": [
        "0.739991003149\n"
       ]
      }
     ],
     "prompt_number": 76
    },
    {
     "cell_type": "markdown",
     "metadata": {},
     "source": [
      "##\u00a0With tf-idf transform"
     ]
    },
    {
     "cell_type": "code",
     "collapsed": false,
     "input": [
      "tfidf_transformer = TfidfTransformer()\n",
      "X = tfidf_transformer.fit_transform(X)"
     ],
     "language": "python",
     "metadata": {},
     "outputs": [],
     "prompt_number": 89
    },
    {
     "cell_type": "code",
     "collapsed": false,
     "input": [
      "X*W"
     ],
     "language": "python",
     "metadata": {},
     "outputs": []
    },
    {
     "cell_type": "code",
     "collapsed": false,
     "input": [
      "x_train, x_test, y_train, y_test = train_test_split(X*W, Y0, test_size=.2)"
     ],
     "language": "python",
     "metadata": {},
     "outputs": [],
     "prompt_number": 60
    },
    {
     "cell_type": "code",
     "collapsed": false,
     "input": [
      "clf = SVC(kernel=\"rbf\")\n",
      "clf.fit(x_train, y_train)"
     ],
     "language": "python",
     "metadata": {},
     "outputs": []
    },
    {
     "cell_type": "code",
     "collapsed": false,
     "input": [
      "score = clf.score(x_test, y_test)"
     ],
     "language": "python",
     "metadata": {},
     "outputs": [],
     "prompt_number": 68
    },
    {
     "cell_type": "code",
     "collapsed": false,
     "input": [
      "print score"
     ],
     "language": "python",
     "metadata": {},
     "outputs": [
      {
       "output_type": "stream",
       "stream": "stdout",
       "text": [
        "0.743139901035\n"
       ]
      }
     ],
     "prompt_number": 69
    },
    {
     "cell_type": "code",
     "collapsed": false,
     "input": [
      "clf = SVC(kernel=\"linear\")\n",
      "clf.fit(x_train, y_train)\n",
      "score = clf.score(x_test, y_test)"
     ],
     "language": "python",
     "metadata": {},
     "outputs": [],
     "prompt_number": 70
    },
    {
     "cell_type": "code",
     "collapsed": false,
     "input": [
      "print score"
     ],
     "language": "python",
     "metadata": {},
     "outputs": [
      {
       "output_type": "stream",
       "stream": "stdout",
       "text": [
        "0.750337381916\n"
       ]
      }
     ],
     "prompt_number": 71
    },
    {
     "cell_type": "markdown",
     "metadata": {},
     "source": [
      "### With first layer spatial pyramid features"
     ]
    },
    {
     "cell_type": "code",
     "collapsed": false,
     "input": [
      "def spatial_pyramid_features(x, level):\n",
      "    ''' spatial pyramid features of x, where x is a list of 2 \n",
      "    dimensional binary images. Refer to this document for more \n",
      "    information http://www.cs.unc.edu/~lazebnik/publications/pyramid_chapter.pdf.'''\n",
      "    result = [1.0/(2**level)*x.sum().sum()]\n",
      "    for i in xrange(0, level):\n",
      "        for j in xrange(x.shape[0]):\n",
      "            rows, cols = x[j].shape\n",
      "            cell_row = max(rows*1./(2**i), 1)\n",
      "            cell_col = max(cols*1./(2**i), 1)\n",
      "            for r in xrange(2**i):\n",
      "                for c in xrange(2**i):\n",
      "                    w = 1.0/(2**(level - i))\n",
      "                    rmask = slice(int(round(r*cell_row)), int(round((r + 1)*cell_row)))\n",
      "                    cmask = slice(int(round(c*cell_col)), int(round((c + 1)*cell_col)))\n",
      "                    result.append(w*x[j][rmask, cmask].sum())\n",
      "    return result                            \n",
      "\n",
      "def spatial_pyramid_kernel(x, y):\n",
      "    return asarray([x, y]).min(axis=0).sum()\n",
      "\n",
      "def sum_kernel(x):\n",
      "    result = [x.sum().sum()/x.shape[0]]\n",
      "    for i in xrange(x.shape[0]):\n",
      "        result.append(x[i].sum())\n",
      "    return result\n",
      "\n",
      "def col_kernel(X):\n",
      "    return concatenate([x.sum(axis=0) for x in X])"
     ],
     "language": "python",
     "metadata": {},
     "outputs": [],
     "prompt_number": 86
    },
    {
     "cell_type": "code",
     "collapsed": false,
     "input": [
      "arrays = load(\"C&W_X0_pooled.txt.npz\")\n",
      "X0_pooled = empty((len(arrays.files), 20), dtype=object)\n",
      "for i in xrange(X0_pooled.shape[0]):\n",
      "    el = arrays[\"arr_%d\" % i]\n",
      "    for j in xrange(el.shape[0]):\n",
      "        X0_pooled[i, j] = el[j]"
     ],
     "language": "python",
     "metadata": {},
     "outputs": []
    },
    {
     "cell_type": "code",
     "collapsed": false,
     "input": [
      "tiles(4, 5, X0_pooled[0], *X0_pooled[0, 0].shape, figsize=(5, 5))"
     ],
     "language": "python",
     "metadata": {},
     "outputs": []
    },
    {
     "cell_type": "markdown",
     "metadata": {},
     "source": [
      "### Pure first pooled features"
     ]
    },
    {
     "cell_type": "code",
     "collapsed": false,
     "input": [
      "X0_pooled_summary = []\n",
      "for i in xrange(X0_pooled.shape[0]):\n",
      "    #X0_pooled_spf.append(spatial_pyramid_features(X0_pooled[i], 3))\n",
      "    X0_pooled_summary.append(sum_kernel(X0_pooled[i]))\n",
      "    #assert len(X0_pooled_spf[-1]) == 421, '%d %d %s' % (i, len(X0_pooled_spf[-1]), X0_pooled[i, 0].shape)\n",
      "X0_pooled_summary = asarray(X0_pooled_summary)"
     ],
     "language": "python",
     "metadata": {},
     "outputs": []
    },
    {
     "cell_type": "code",
     "collapsed": false,
     "input": [
      "_ = hist(norm(X*W).flatten(), bins=100)"
     ],
     "language": "python",
     "metadata": {},
     "outputs": [
      {
       "metadata": {},
       "output_type": "display_data",
       "png": "[encoded data removed]"
      }
     ],
     "prompt_number": 19
    },
    {
     "cell_type": "code",
     "collapsed": false,
     "input": [
      "_ = hist(norm(X0_pooled_summary).flatten(), bins=100)"
     ],
     "language": "python",
     "metadata": {},
     "outputs": [
      {
       "metadata": {},
       "output_type": "display_data",
       "png": "[encoded data removed]"
      }
     ],
     "prompt_number": 22
    },
    {
     "cell_type": "code",
     "collapsed": false,
     "input": [
      "x_train, x_test, y_train, y_test = train_test_split(norm(X0_pooled_summary), Y0, test_size=.2)\n",
      "clf = SVC(kernel=\"linear\")\n",
      "clf.fit(x_train, y_train)\n",
      "score = clf.score(x_test, y_test)\n",
      "print score"
     ],
     "language": "python",
     "metadata": {},
     "outputs": [
      {
       "output_type": "stream",
       "stream": "stdout",
       "text": [
        "0.61853351327\n"
       ]
      }
     ],
     "prompt_number": 46
    },
    {
     "cell_type": "code",
     "collapsed": false,
     "input": [
      "performance(clf, x_test, y_test)"
     ],
     "language": "python",
     "metadata": {},
     "outputs": [
      {
       "metadata": {},
       "output_type": "pyout",
       "prompt_number": 47,
       "text": [
        "{'accuracy': 0.61853351327035533,\n",
        " 'objective_precision': 0.61124694376528121,\n",
        " 'objective_recall': 0.4854368932038835,\n",
        " 'subjective_precision': 0.62277580071174377,\n",
        " 'subjective_recall': 0.73344509639564126}"
       ]
      }
     ],
     "prompt_number": 47
    },
    {
     "cell_type": "markdown",
     "metadata": {},
     "source": [
      "### Combination of pure embeddings + first layer pooled features"
     ]
    },
    {
     "cell_type": "code",
     "collapsed": false,
     "input": [
      "_ = hist(norm(X0_pooled_summary.flatten()), bins=100)"
     ],
     "language": "python",
     "metadata": {},
     "outputs": [
      {
       "metadata": {},
       "output_type": "display_data",
       "png": "[encoded data removed]"
      }
     ],
     "prompt_number": 114
    },
    {
     "cell_type": "code",
     "collapsed": false,
     "input": [
      "XX = concatenate((norm(X*W), norm(X0_pooled_summary)), axis=1)\n",
      "x_train, x_test, y_train, y_test = train_test_split(XX, Y0, test_size=.2)"
     ],
     "language": "python",
     "metadata": {},
     "outputs": []
    },
    {
     "cell_type": "code",
     "collapsed": false,
     "input": [
      "scores = cross_validation.cross_val_score(clf, x_train, y_train, cv=10, n_jobs=6)"
     ],
     "language": "python",
     "metadata": {},
     "outputs": [],
     "prompt_number": 52
    },
    {
     "cell_type": "code",
     "collapsed": false,
     "input": [
      "print score"
     ],
     "language": "python",
     "metadata": {},
     "outputs": [
      {
       "output_type": "stream",
       "stream": "stdout",
       "text": [
        "0.768331084121\n"
       ]
      }
     ],
     "prompt_number": 53
    },
    {
     "cell_type": "code",
     "collapsed": false,
     "input": [
      "clf = SVC(kernel=\"linear\")\n",
      "clf.fit(x_train, y_train)"
     ],
     "language": "python",
     "metadata": {},
     "outputs": [
      {
       "metadata": {},
       "output_type": "pyout",
       "prompt_number": 54,
       "text": [
        "SVC(C=1.0, cache_size=200, class_weight=None, coef0=0.0, degree=3, gamma=0.0,\n",
        "  kernel='linear', probability=False, shrinking=True, tol=0.001,\n",
        "  verbose=False)"
       ]
      }
     ],
     "prompt_number": 54
    },
    {
     "cell_type": "code",
     "collapsed": false,
     "input": [
      "print score"
     ],
     "language": "python",
     "metadata": {},
     "outputs": [
      {
       "output_type": "stream",
       "stream": "stdout",
       "text": [
        "0.768331084121\n"
       ]
      }
     ],
     "prompt_number": 55
    },
    {
     "cell_type": "code",
     "collapsed": false,
     "input": [
      "performance(clf, x_test, y_test)"
     ],
     "language": "python",
     "metadata": {},
     "outputs": [
      {
       "metadata": {},
       "output_type": "pyout",
       "prompt_number": 56,
       "text": [
        "{'accuracy': 0.76833108412055784,\n",
        " 'objective_precision': 0.74820143884892087,\n",
        " 'objective_recall': 0.72945891783567129,\n",
        " 'subjective_precision': 0.78400000000000003,\n",
        " 'subjective_recall': 0.80000000000000004}"
       ]
      }
     ],
     "prompt_number": 56
    },
    {
     "cell_type": "markdown",
     "metadata": {},
     "source": [
      "### Combination of pure embeddings + first layer pooled columns"
     ]
    },
    {
     "cell_type": "code",
     "collapsed": false,
     "input": [
      "X0_pooled_cols = []\n",
      "for i in xrange(X0_pooled.shape[0]):\n",
      "    #X0_pooled_spf.append(spatial_pyramid_features(X0_pooled[i], 3))\n",
      "    X0_pooled_cols.append(col_kernel(X0_pooled[i]))\n",
      "    #assert len(X0_pooled_spf[-1]) == 421, '%d %d %s' % (i, len(X0_pooled_spf[-1]), X0_pooled[i, 0].shape)\n",
      "X0_pooled_cols = asarray(X0_pooled_cols)"
     ],
     "language": "python",
     "metadata": {},
     "outputs": [],
     "prompt_number": 87
    },
    {
     "cell_type": "code",
     "collapsed": false,
     "input": [
      "# Pure columned features\n",
      "x_train, x_test, y_train, y_test = train_test_split(norm(X0_pooled_cols), Y0, test_size=.2)\n",
      "scores = cross_validation.cross_val_score(clf, x_train, y_train, cv=10, n_jobs=6)\n",
      "asarray(scores).mean()"
     ],
     "language": "python",
     "metadata": {},
     "outputs": [
      {
       "metadata": {},
       "output_type": "pyout",
       "prompt_number": 100,
       "text": [
        "0.72876954569867958"
       ]
      }
     ],
     "prompt_number": 100
    },
    {
     "cell_type": "code",
     "collapsed": false,
     "input": [
      "clf.fit(x_train, y_train)\n",
      "performance(clf, x_test, y_test)"
     ],
     "language": "python",
     "metadata": {},
     "outputs": [
      {
       "metadata": {},
       "output_type": "pyout",
       "prompt_number": 101,
       "text": [
        "{'accuracy': 0.73054430949167792,\n",
        " 'objective_precision': 0.70957775489186403,\n",
        " 'objective_recall': 0.68489065606361832,\n",
        " 'subjective_precision': 0.74680511182108622,\n",
        " 'subjective_recall': 0.76828266228430564}"
       ]
      }
     ],
     "prompt_number": 101
    },
    {
     "cell_type": "code",
     "collapsed": false,
     "input": [
      "# Embeddings + columned features\n",
      "XX = concatenate((norm(X*W), norm(X0_pooled_cols)), axis=1)\n",
      "x_train, x_test, y_train, y_test = train_test_split(XX, Y0, test_size=.2)\n",
      "scores = cross_validation.cross_val_score(clf, x_train, y_train, cv=10, n_jobs=6)"
     ],
     "language": "python",
     "metadata": {},
     "outputs": [],
     "prompt_number": 109
    },
    {
     "cell_type": "code",
     "collapsed": false,
     "input": [
      "asarray(scores).mean()"
     ],
     "language": "python",
     "metadata": {},
     "outputs": [
      {
       "metadata": {},
       "output_type": "pyout",
       "prompt_number": 110,
       "text": [
        "0.73967916172640602"
       ]
      }
     ],
     "prompt_number": 110
    },
    {
     "cell_type": "markdown",
     "metadata": {},
     "source": [
      "### Combination of pure embeddings + first layer hidden"
     ]
    },
    {
     "cell_type": "code",
     "collapsed": false,
     "input": [
      "X1_columns = loadtxt(\"C&W_X1_columnised.txt\")"
     ],
     "language": "python",
     "metadata": {},
     "outputs": [],
     "prompt_number": 14
    },
    {
     "cell_type": "code",
     "collapsed": false,
     "input": [
      "_ = hist(norm(X1_columns.flatten()), range=(-5, 5), bins=100)"
     ],
     "language": "python",
     "metadata": {},
     "outputs": [
      {
       "output_type": "stream",
       "stream": "stderr",
       "text": [
        "/usr/local/lib/python2.7/dist-packages/matplotlib/font_manager.py:1218: UserWarning: findfont: Font family ['monospace'] not found. Falling back to Bitstream Vera Sans\n",
        "  (prop.get_family(), self.defaultFamily[fontext]))\n"
       ]
      },
      {
       "metadata": {},
       "output_type": "display_data",
       "png": "[encoded data removed]"
      }
     ],
     "prompt_number": 15
    },
    {
     "cell_type": "code",
     "collapsed": false,
     "input": [
      "# Pure columned features\n",
      "clf = SVC(kernel=\"linear\")\n",
      "x_train, x_test, y_train, y_test = train_test_split(norm(X1_columns), Y0, test_size=.2)\n",
      "scores = cross_validation.cross_val_score(clf, x_train, y_train, cv=10, n_jobs=6)\n",
      "asarray(scores).mean()"
     ],
     "language": "python",
     "metadata": {},
     "outputs": [
      {
       "output_type": "stream",
       "stream": "stderr",
       "text": [
        "/usr/local/lib/python2.7/dist-packages/sklearn/cross_validation.py:806: DeprecationWarning: using a non-integer number instead of an integer will result in an error in the future\n",
        "  ind_test = permutation[:self.n_test]\n",
        "/usr/local/lib/python2.7/dist-packages/sklearn/cross_validation.py:807: DeprecationWarning: using a non-integer number instead of an integer will result in an error in the future\n",
        "  ind_train = permutation[self.n_test:self.n_test + self.n_train]\n",
        "/usr/local/lib/python2.7/dist-packages/sklearn/cross_validation.py:807: DeprecationWarning: using a non-integer number instead of an integer will result in an error in the future\n",
        "  ind_train = permutation[self.n_test:self.n_test + self.n_train]\n"
       ]
      },
      {
       "metadata": {},
       "output_type": "pyout",
       "prompt_number": 16,
       "text": [
        "0.72392999017014759"
       ]
      }
     ],
     "prompt_number": 16
    },
    {
     "cell_type": "code",
     "collapsed": false,
     "input": [
      "# Embeddings + columned features\n",
      "clf = SVC(kernel=\"rbf\")\n",
      "XX = concatenate((norm(X*W), norm(X1_columns)), axis=1)\n",
      "x_train, x_test, y_train, y_test = train_test_split(XX, Y0, test_size=.2)\n",
      "scores = cross_validation.cross_val_score(clf, x_train, y_train, cv=10, n_jobs=6)"
     ],
     "language": "python",
     "metadata": {},
     "outputs": [],
     "prompt_number": 75
    },
    {
     "cell_type": "code",
     "collapsed": false,
     "input": [
      "asarray(scores).mean()"
     ],
     "language": "python",
     "metadata": {},
     "outputs": [
      {
       "metadata": {},
       "output_type": "pyout",
       "prompt_number": 76,
       "text": [
        "0.75261846492161444"
       ]
      }
     ],
     "prompt_number": 76
    },
    {
     "cell_type": "code",
     "collapsed": false,
     "input": [
      "X1_spf = loadtxt(\"C&W_X1_spf.txt\")"
     ],
     "language": "python",
     "metadata": {},
     "outputs": []
    },
    {
     "cell_type": "code",
     "collapsed": false,
     "input": [
      "# Pure columned features\n",
      "clf = SVC(kernel=\"linear\")\n",
      "x_train, x_test, y_train, y_test = train_test_split(norm(X1_spf), Y0, test_size=.2)\n",
      "scores = cross_validation.cross_val_score(clf, x_train, y_train, cv=10, n_jobs=6)\n",
      "asarray(scores).mean()"
     ],
     "language": "python",
     "metadata": {},
     "outputs": [
      {
       "output_type": "stream",
       "stream": "stderr",
       "text": [
        "/usr/local/lib/python2.7/dist-packages/sklearn/cross_validation.py:806: DeprecationWarning: using a non-integer number instead of an integer will result in an error in the future\n",
        "  ind_test = permutation[:self.n_test]\n",
        "/usr/local/lib/python2.7/dist-packages/sklearn/cross_validation.py:807: DeprecationWarning: using a non-integer number instead of an integer will result in an error in the future\n",
        "  ind_train = permutation[self.n_test:self.n_test + self.n_train]\n",
        "/usr/local/lib/python2.7/dist-packages/sklearn/cross_validation.py:807: DeprecationWarning: using a non-integer number instead of an integer will result in an error in the future\n",
        "  ind_train = permutation[self.n_test:self.n_test + self.n_train]\n"
       ]
      },
      {
       "metadata": {},
       "output_type": "pyout",
       "prompt_number": 19,
       "text": [
        "0.66779165273259755"
       ]
      }
     ],
     "prompt_number": 19
    },
    {
     "cell_type": "code",
     "collapsed": false,
     "input": [
      "# Embeddings + SPK features\n",
      "clf = SVC(kernel=\"linear\")\n",
      "x_train, x_test, y_train, y_test = train_test_split(concatenate((norm(X*W), norm(X1_spf)), axis=1), Y0, test_size=.2)\n",
      "scores = cross_validation.cross_val_score(clf, x_train, y_train, cv=10, n_jobs=6)\n",
      "asarray(scores).mean()"
     ],
     "language": "python",
     "metadata": {},
     "outputs": [
      {
       "output_type": "stream",
       "stream": "stderr",
       "text": [
        "/usr/local/lib/python2.7/dist-packages/sklearn/cross_validation.py:806: DeprecationWarning: using a non-integer number instead of an integer will result in an error in the future\n",
        "  ind_test = permutation[:self.n_test]\n",
        "/usr/local/lib/python2.7/dist-packages/sklearn/cross_validation.py:807: DeprecationWarning: using a non-integer number instead of an integer will result in an error in the future\n",
        "  ind_train = permutation[self.n_test:self.n_test + self.n_train]\n",
        "/usr/local/lib/python2.7/dist-packages/sklearn/cross_validation.py:807: DeprecationWarning: using a non-integer number instead of an integer will result in an error in the future\n",
        "  ind_train = permutation[self.n_test:self.n_test + self.n_train]\n"
       ]
      },
      {
       "metadata": {},
       "output_type": "pyout",
       "prompt_number": 24,
       "text": [
        "0.74654181740795922"
       ]
      }
     ],
     "prompt_number": 24
    },
    {
     "cell_type": "markdown",
     "metadata": {},
     "source": [
      "### Combination of pure embeddings + first layer pooled features + second layer pooled features"
     ]
    },
    {
     "cell_type": "code",
     "collapsed": false,
     "input": [
      "X2_pooled_spf = loadtxt(\"C&W_X2_pooled_spf.txt\")"
     ],
     "language": "python",
     "metadata": {},
     "outputs": [],
     "prompt_number": 3
    },
    {
     "cell_type": "code",
     "collapsed": false,
     "input": [
      "clf = SVC(kernel=\"linear\")\n",
      "x_train, x_test, y_train, y_test = train_test_split(X2_pooled_spf, Y0, test_size=.2)\n",
      "scores = cross_validation.cross_val_score(clf, x_train, y_train, cv=10, n_jobs=6)\n",
      "asarray(scores).mean()"
     ],
     "language": "python",
     "metadata": {},
     "outputs": [
      {
       "output_type": "stream",
       "stream": "stderr",
       "text": [
        "/usr/local/lib/python2.7/dist-packages/sklearn/cross_validation.py:806: DeprecationWarning: using a non-integer number instead of an integer will result in an error in the future\n",
        "  ind_test = permutation[:self.n_test]\n",
        "/usr/local/lib/python2.7/dist-packages/sklearn/cross_validation.py:807: DeprecationWarning: using a non-integer number instead of an integer will result in an error in the future\n",
        "  ind_train = permutation[self.n_test:self.n_test + self.n_train]\n",
        "/usr/local/lib/python2.7/dist-packages/sklearn/cross_validation.py:807: DeprecationWarning: using a non-integer number instead of an integer will result in an error in the future\n",
        "  ind_train = permutation[self.n_test:self.n_test + self.n_train]\n"
       ]
      }
     ]
    },
    {
     "cell_type": "code",
     "collapsed": false,
     "input": [
      "asarray(scores).mean()"
     ],
     "language": "python",
     "metadata": {},
     "outputs": []
    }
   ],
   "metadata": {}
  }
 ]
}